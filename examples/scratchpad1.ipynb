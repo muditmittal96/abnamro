{
 "metadata": {
  "language_info": {
   "codemirror_mode": {
    "name": "ipython",
    "version": 3
   },
   "file_extension": ".py",
   "mimetype": "text/x-python",
   "name": "python",
   "nbconvert_exporter": "python",
   "pygments_lexer": "ipython3",
   "version": "3.9.6"
  },
  "orig_nbformat": 4,
  "kernelspec": {
   "name": "python3",
   "display_name": "Python 3.9.6 64-bit"
  },
  "interpreter": {
   "hash": "aee8b7b246df8f9039afb4144a1f6fd8d2ca17a180786b69acc140d282b71a49"
  }
 },
 "nbformat": 4,
 "nbformat_minor": 2,
 "cells": [
  {
   "cell_type": "code",
   "execution_count": 1,
   "metadata": {},
   "outputs": [],
   "source": [
    "import pandas as pd"
   ]
  },
  {
   "cell_type": "code",
   "execution_count": 2,
   "metadata": {},
   "outputs": [],
   "source": [
    "df = pd.read_csv('input.txt', header=None)"
   ]
  },
  {
   "cell_type": "code",
   "execution_count": 5,
   "metadata": {},
   "outputs": [],
   "source": [
    "df.columns = ['Input']"
   ]
  },
  {
   "cell_type": "code",
   "execution_count": 6,
   "metadata": {},
   "outputs": [
    {
     "output_type": "execute_result",
     "data": {
      "text/plain": [
       "                                                 Input\n",
       "0    315CL  432100020001SGXDC FUSGX NK    20100910J...\n",
       "1    315CL  432100020001SGXDC FUSGX NK    20100910J...\n",
       "2    315CL  432100020001SGXDC FUSGX NK    20100910J...\n",
       "3    315CL  432100020001SGXDC FUSGX NK    20100910J...\n",
       "4    315CL  432100020001SGXDC FUSGX NK    20100910J...\n",
       "..                                                 ...\n",
       "712  315CL  432100030001FCC   FUCME N1    20100910J...\n",
       "713  315CL  432100030001FCC   FUCME N1    20100910J...\n",
       "714  315CL  432100030001FCC   FUCME N1    20100910J...\n",
       "715  315CL  432100030001FCC   FUCME N1    20100910J...\n",
       "716  315CL  432100030001FCC   FUCME N1    20100910J...\n",
       "\n",
       "[717 rows x 1 columns]"
      ],
      "text/html": "<div>\n<style scoped>\n    .dataframe tbody tr th:only-of-type {\n        vertical-align: middle;\n    }\n\n    .dataframe tbody tr th {\n        vertical-align: top;\n    }\n\n    .dataframe thead th {\n        text-align: right;\n    }\n</style>\n<table border=\"1\" class=\"dataframe\">\n  <thead>\n    <tr style=\"text-align: right;\">\n      <th></th>\n      <th>Input</th>\n    </tr>\n  </thead>\n  <tbody>\n    <tr>\n      <th>0</th>\n      <td>315CL  432100020001SGXDC FUSGX NK    20100910J...</td>\n    </tr>\n    <tr>\n      <th>1</th>\n      <td>315CL  432100020001SGXDC FUSGX NK    20100910J...</td>\n    </tr>\n    <tr>\n      <th>2</th>\n      <td>315CL  432100020001SGXDC FUSGX NK    20100910J...</td>\n    </tr>\n    <tr>\n      <th>3</th>\n      <td>315CL  432100020001SGXDC FUSGX NK    20100910J...</td>\n    </tr>\n    <tr>\n      <th>4</th>\n      <td>315CL  432100020001SGXDC FUSGX NK    20100910J...</td>\n    </tr>\n    <tr>\n      <th>...</th>\n      <td>...</td>\n    </tr>\n    <tr>\n      <th>712</th>\n      <td>315CL  432100030001FCC   FUCME N1    20100910J...</td>\n    </tr>\n    <tr>\n      <th>713</th>\n      <td>315CL  432100030001FCC   FUCME N1    20100910J...</td>\n    </tr>\n    <tr>\n      <th>714</th>\n      <td>315CL  432100030001FCC   FUCME N1    20100910J...</td>\n    </tr>\n    <tr>\n      <th>715</th>\n      <td>315CL  432100030001FCC   FUCME N1    20100910J...</td>\n    </tr>\n    <tr>\n      <th>716</th>\n      <td>315CL  432100030001FCC   FUCME N1    20100910J...</td>\n    </tr>\n  </tbody>\n</table>\n<p>717 rows × 1 columns</p>\n</div>"
     },
     "metadata": {},
     "execution_count": 6
    }
   ],
   "source": [
    "df"
   ]
  },
  {
   "cell_type": "code",
   "execution_count": 12,
   "metadata": {},
   "outputs": [],
   "source": [
    "df['Record_Code'] = df.apply(lambda x: x['Input'][:3], axis=1)\n",
    "df['Client_Type'] = df.apply(lambda x: x['Input'][3:7], axis=1)\n",
    "df['Client_Number'] = df.apply(lambda x: x['Input'][7:11], axis=1)\n",
    "df['Account_Number'] = df.apply(lambda x: x['Input'][11:15], axis=1)\n",
    "df['Subaccount_Number'] = df.apply(lambda x: x['Input'][15:19], axis=1)\n",
    "df['Opposite_Party_Code'] = df.apply(lambda x: x['Input'][19:25], axis=1)\n",
    "df['Product_Group_Code'] = df.apply(lambda x: x['Input'][25:27], axis=1)\n",
    "df['Exchange_Code'] = df.apply(lambda x: x['Input'][27:31], axis=1)\n",
    "df['Symbol'] = df.apply(lambda x: x['Input'][31:37], axis=1)\n",
    "df['Expiration_Date'] = df.apply(lambda x: x['Input'][37:45], axis=1)\n",
    "df['Currency_Code'] = df.apply(lambda x: x['Input'][45:48], axis=1)\n",
    "df['Movement_Code'] = df.apply(lambda x: x['Input'][48:50], axis=1)\n",
    "df['Buy_Sell_Code'] = df.apply(lambda x: x['Input'][50:51], axis=1)\n",
    "df['Quantity_Long_Sign'] = df.apply(lambda x: x['Input'][51:52], axis=1)\n",
    "df['Quantity_Long'] = df.apply(lambda x: x['Input'][52:62], axis=1)\n",
    "df['Quantity_Short_Sign'] = df.apply(lambda x: x['Input'][62:63], axis=1)\n",
    "df['Quantity_Short'] = df.apply(lambda x: x['Input'][63:73], axis=1)\n",
    "df['Exch/Broker_Fee/DEC'] = df.apply(lambda x: x['Input'][73:85], axis=1)\n",
    "df['Exch/Broker_Fee_D_C'] = df.apply(lambda x: x['Input'][85:86], axis=1)\n",
    "df['Exch/Broker_Fee_Cur_Code'] = df.apply(lambda x: x['Input'][86:89], axis=1)\n",
    "df['Clearing_Fee/DEC'] = df.apply(lambda x: x['Input'][89:101], axis=1)\n",
    "df['Clearing_Fee_D_C'] = df.apply(lambda x: x['Input'][101:102], axis=1)\n",
    "df['Clearing_Fee_Cur_Code'] = df.apply(lambda x: x['Input'][102:105], axis=1)\n",
    "df['Commission'] = df.apply(lambda x: x['Input'][105:117], axis=1)\n",
    "df['Commission_D_C'] = df.apply(lambda x: x['Input'][117:118], axis=1)\n",
    "df['Commission_Cur_Code'] = df.apply(lambda x: x['Input'][118:121], axis=1)\n",
    "df['Transaction_Date'] = df.apply(lambda x: x['Input'][121:129], axis=1)\n",
    "df['Future_Reference'] = df.apply(lambda x: x['Input'][129:135], axis=1)\n",
    "df['Ticket_Number'] = df.apply(lambda x: x['Input'][135:141], axis=1)\n",
    "df['External_Number'] = df.apply(lambda x: x['Input'][141:147], axis=1)\n",
    "df['Transaction_Price/DEC'] = df.apply(lambda x: x['Input'][147:162], axis=1)\n",
    "df['Trader_Initials'] = df.apply(lambda x: x['Input'][162:168], axis=1)\n",
    "df['Opposite_Trader_ID'] = df.apply(lambda x: x['Input'][168:175], axis=1)\n",
    "df['Open_Close_Code'] = df.apply(lambda x: x['Input'][175:176], axis=1)"
   ]
  },
  {
   "cell_type": "code",
   "execution_count": 36,
   "metadata": {},
   "outputs": [],
   "source": [
    "df['Total_Transaction_Amount'] = df['Quantity_Long'].astype('float') - df['Quantity_Short'].astype('float')"
   ]
  },
  {
   "cell_type": "code",
   "execution_count": 46,
   "metadata": {},
   "outputs": [],
   "source": [
    "df['Expiration_Date'] = pd.to_datetime(df['Expiration_Date'])"
   ]
  },
  {
   "cell_type": "code",
   "execution_count": 47,
   "metadata": {},
   "outputs": [
    {
     "output_type": "execute_result",
     "data": {
      "text/plain": [
       "0     2010-09-10\n",
       "1     2010-09-10\n",
       "2     2010-09-10\n",
       "3     2010-09-10\n",
       "4     2010-09-10\n",
       "         ...    \n",
       "712   2010-09-10\n",
       "713   2010-09-10\n",
       "714   2010-09-10\n",
       "715   2010-09-10\n",
       "716   2010-09-10\n",
       "Name: Expiration_Date, Length: 717, dtype: datetime64[ns]"
      ]
     },
     "metadata": {},
     "execution_count": 47
    }
   ],
   "source": [
    "df['Expiration_Date']"
   ]
  },
  {
   "cell_type": "code",
   "execution_count": 56,
   "metadata": {},
   "outputs": [],
   "source": [
    "df_test = df.groupby(['Client_Type', 'Client_Number', 'Account_Number', 'Subaccount_Number', 'Exchange_Code', 'Product_Group_Code', 'Symbol', 'Expiration_Date'], as_index=False)['Total_Transaction_Amount'].sum()"
   ]
  },
  {
   "cell_type": "code",
   "execution_count": 57,
   "metadata": {},
   "outputs": [
    {
     "output_type": "execute_result",
     "data": {
      "text/plain": [
       "  Client_Type Client_Number Account_Number Subaccount_Number Exchange_Code  \\\n",
       "0        CL            1234           0002              0001          SGX    \n",
       "1        CL            1234           0003              0001          CME    \n",
       "2        CL            1234           0003              0001          CME    \n",
       "3        CL            4321           0002              0001          SGX    \n",
       "4        CL            4321           0003              0001          CME    \n",
       "\n",
       "  Product_Group_Code  Symbol Expiration_Date  Total_Transaction_Amount  \n",
       "0                 FU  NK          2010-09-10                       -52  \n",
       "1                 FU  N1          2010-09-10                       285  \n",
       "2                 FU  NK.         2010-09-10                      -215  \n",
       "3                 FU  NK          2010-09-10                        46  \n",
       "4                 FU  N1          2010-09-10                       -79  "
      ],
      "text/html": "<div>\n<style scoped>\n    .dataframe tbody tr th:only-of-type {\n        vertical-align: middle;\n    }\n\n    .dataframe tbody tr th {\n        vertical-align: top;\n    }\n\n    .dataframe thead th {\n        text-align: right;\n    }\n</style>\n<table border=\"1\" class=\"dataframe\">\n  <thead>\n    <tr style=\"text-align: right;\">\n      <th></th>\n      <th>Client_Type</th>\n      <th>Client_Number</th>\n      <th>Account_Number</th>\n      <th>Subaccount_Number</th>\n      <th>Exchange_Code</th>\n      <th>Product_Group_Code</th>\n      <th>Symbol</th>\n      <th>Expiration_Date</th>\n      <th>Total_Transaction_Amount</th>\n    </tr>\n  </thead>\n  <tbody>\n    <tr>\n      <th>0</th>\n      <td>CL</td>\n      <td>1234</td>\n      <td>0002</td>\n      <td>0001</td>\n      <td>SGX</td>\n      <td>FU</td>\n      <td>NK</td>\n      <td>2010-09-10</td>\n      <td>-52</td>\n    </tr>\n    <tr>\n      <th>1</th>\n      <td>CL</td>\n      <td>1234</td>\n      <td>0003</td>\n      <td>0001</td>\n      <td>CME</td>\n      <td>FU</td>\n      <td>N1</td>\n      <td>2010-09-10</td>\n      <td>285</td>\n    </tr>\n    <tr>\n      <th>2</th>\n      <td>CL</td>\n      <td>1234</td>\n      <td>0003</td>\n      <td>0001</td>\n      <td>CME</td>\n      <td>FU</td>\n      <td>NK.</td>\n      <td>2010-09-10</td>\n      <td>-215</td>\n    </tr>\n    <tr>\n      <th>3</th>\n      <td>CL</td>\n      <td>4321</td>\n      <td>0002</td>\n      <td>0001</td>\n      <td>SGX</td>\n      <td>FU</td>\n      <td>NK</td>\n      <td>2010-09-10</td>\n      <td>46</td>\n    </tr>\n    <tr>\n      <th>4</th>\n      <td>CL</td>\n      <td>4321</td>\n      <td>0003</td>\n      <td>0001</td>\n      <td>CME</td>\n      <td>FU</td>\n      <td>N1</td>\n      <td>2010-09-10</td>\n      <td>-79</td>\n    </tr>\n  </tbody>\n</table>\n</div>"
     },
     "metadata": {},
     "execution_count": 57
    }
   ],
   "source": [
    "df_test"
   ]
  },
  {
   "cell_type": "code",
   "execution_count": 62,
   "metadata": {},
   "outputs": [],
   "source": [
    "client_info_cols = ['Client_Type', 'Client_Number', 'Account_Number', 'Subaccount_Number']\n",
    "product_info_cols = ['Exchange_Code', 'Product_Group_Code', 'Symbol', 'Expiration_Date']\n",
    "df_test['Client_Information'] = df_test[client_info_cols].apply(lambda row: '_'.join(row.values.astype(str)), axis=1)\n",
    "df_test['Product_Information'] = df_test[product_info_cols].apply(lambda row: '_'.join(row.values.astype(str)), axis=1)"
   ]
  },
  {
   "cell_type": "code",
   "execution_count": 63,
   "metadata": {},
   "outputs": [
    {
     "output_type": "execute_result",
     "data": {
      "text/plain": [
       "  Client_Type Client_Number Account_Number Subaccount_Number Exchange_Code  \\\n",
       "0        CL            1234           0002              0001          SGX    \n",
       "1        CL            1234           0003              0001          CME    \n",
       "2        CL            1234           0003              0001          CME    \n",
       "3        CL            4321           0002              0001          SGX    \n",
       "4        CL            4321           0003              0001          CME    \n",
       "\n",
       "  Product_Group_Code  Symbol Expiration_Date  Total_Transaction_Amount  \\\n",
       "0                 FU  NK          2010-09-10                       -52   \n",
       "1                 FU  N1          2010-09-10                       285   \n",
       "2                 FU  NK.         2010-09-10                      -215   \n",
       "3                 FU  NK          2010-09-10                        46   \n",
       "4                 FU  N1          2010-09-10                       -79   \n",
       "\n",
       "    Client_Information                 Product_Information  \n",
       "0  CL  _1234_0002_0001  SGX _FU_NK    _2010-09-10 00:00:00  \n",
       "1  CL  _1234_0003_0001  CME _FU_N1    _2010-09-10 00:00:00  \n",
       "2  CL  _1234_0003_0001  CME _FU_NK.   _2010-09-10 00:00:00  \n",
       "3  CL  _4321_0002_0001  SGX _FU_NK    _2010-09-10 00:00:00  \n",
       "4  CL  _4321_0003_0001  CME _FU_N1    _2010-09-10 00:00:00  "
      ],
      "text/html": "<div>\n<style scoped>\n    .dataframe tbody tr th:only-of-type {\n        vertical-align: middle;\n    }\n\n    .dataframe tbody tr th {\n        vertical-align: top;\n    }\n\n    .dataframe thead th {\n        text-align: right;\n    }\n</style>\n<table border=\"1\" class=\"dataframe\">\n  <thead>\n    <tr style=\"text-align: right;\">\n      <th></th>\n      <th>Client_Type</th>\n      <th>Client_Number</th>\n      <th>Account_Number</th>\n      <th>Subaccount_Number</th>\n      <th>Exchange_Code</th>\n      <th>Product_Group_Code</th>\n      <th>Symbol</th>\n      <th>Expiration_Date</th>\n      <th>Total_Transaction_Amount</th>\n      <th>Client_Information</th>\n      <th>Product_Information</th>\n    </tr>\n  </thead>\n  <tbody>\n    <tr>\n      <th>0</th>\n      <td>CL</td>\n      <td>1234</td>\n      <td>0002</td>\n      <td>0001</td>\n      <td>SGX</td>\n      <td>FU</td>\n      <td>NK</td>\n      <td>2010-09-10</td>\n      <td>-52</td>\n      <td>CL  _1234_0002_0001</td>\n      <td>SGX _FU_NK    _2010-09-10 00:00:00</td>\n    </tr>\n    <tr>\n      <th>1</th>\n      <td>CL</td>\n      <td>1234</td>\n      <td>0003</td>\n      <td>0001</td>\n      <td>CME</td>\n      <td>FU</td>\n      <td>N1</td>\n      <td>2010-09-10</td>\n      <td>285</td>\n      <td>CL  _1234_0003_0001</td>\n      <td>CME _FU_N1    _2010-09-10 00:00:00</td>\n    </tr>\n    <tr>\n      <th>2</th>\n      <td>CL</td>\n      <td>1234</td>\n      <td>0003</td>\n      <td>0001</td>\n      <td>CME</td>\n      <td>FU</td>\n      <td>NK.</td>\n      <td>2010-09-10</td>\n      <td>-215</td>\n      <td>CL  _1234_0003_0001</td>\n      <td>CME _FU_NK.   _2010-09-10 00:00:00</td>\n    </tr>\n    <tr>\n      <th>3</th>\n      <td>CL</td>\n      <td>4321</td>\n      <td>0002</td>\n      <td>0001</td>\n      <td>SGX</td>\n      <td>FU</td>\n      <td>NK</td>\n      <td>2010-09-10</td>\n      <td>46</td>\n      <td>CL  _4321_0002_0001</td>\n      <td>SGX _FU_NK    _2010-09-10 00:00:00</td>\n    </tr>\n    <tr>\n      <th>4</th>\n      <td>CL</td>\n      <td>4321</td>\n      <td>0003</td>\n      <td>0001</td>\n      <td>CME</td>\n      <td>FU</td>\n      <td>N1</td>\n      <td>2010-09-10</td>\n      <td>-79</td>\n      <td>CL  _4321_0003_0001</td>\n      <td>CME _FU_N1    _2010-09-10 00:00:00</td>\n    </tr>\n  </tbody>\n</table>\n</div>"
     },
     "metadata": {},
     "execution_count": 63
    }
   ],
   "source": [
    "df_test"
   ]
  },
  {
   "cell_type": "code",
   "execution_count": null,
   "metadata": {},
   "outputs": [],
   "source": []
  },
  {
   "cell_type": "code",
   "execution_count": null,
   "metadata": {},
   "outputs": [],
   "source": []
  },
  {
   "cell_type": "code",
   "execution_count": null,
   "metadata": {},
   "outputs": [],
   "source": []
  },
  {
   "cell_type": "code",
   "execution_count": 52,
   "metadata": {},
   "outputs": [],
   "source": [
    "df_test.to_csv('Output.csv')"
   ]
  },
  {
   "cell_type": "code",
   "execution_count": 53,
   "metadata": {},
   "outputs": [
    {
     "output_type": "stream",
     "name": "stdout",
     "text": [
      "<class 'pandas.core.frame.DataFrame'>\nRangeIndex: 717 entries, 0 to 716\nData columns (total 36 columns):\n #   Column                    Non-Null Count  Dtype         \n---  ------                    --------------  -----         \n 0   Input                     717 non-null    object        \n 1   Record_Code               717 non-null    object        \n 2   Client_Type               717 non-null    object        \n 3   Client_Number             717 non-null    object        \n 4   Account_Number            717 non-null    object        \n 5   Subaccount_Number         717 non-null    object        \n 6   Opposite_Party_Code       717 non-null    object        \n 7   Product_Group_Code        717 non-null    object        \n 8   Exchange_Code             717 non-null    object        \n 9   Symbol                    717 non-null    object        \n 10  Expiration_Date           717 non-null    datetime64[ns]\n 11  Currency_Code             717 non-null    object        \n 12  Movement_Code             717 non-null    object        \n 13  Buy_Sell_Code             717 non-null    object        \n 14  Quantity_Long_Sign        717 non-null    object        \n 15  Quantity_Long             717 non-null    object        \n 16  Quantity_Short_Sign       717 non-null    object        \n 17  Quantity_Short            717 non-null    object        \n 18  Exch/Broker_Fee/DEC       717 non-null    object        \n 19  Exch/Broker_Fee_D_C       717 non-null    object        \n 20  Exch/Broker_Fee_Cur_Code  717 non-null    object        \n 21  Clearing_Fee/DEC          717 non-null    object        \n 22  Clearing_Fee_D_C          717 non-null    object        \n 23  Clearing_Fee_Cur_Code     717 non-null    object        \n 24  Commission                717 non-null    object        \n 25  Commission_D_C            717 non-null    object        \n 26  Commission_Cur_Code       717 non-null    object        \n 27  Transaction_Date          717 non-null    object        \n 28  Future_Reference          717 non-null    object        \n 29  Ticket_Number             717 non-null    object        \n 30  External_Number           717 non-null    object        \n 31  Transaction_Price/DEC     717 non-null    object        \n 32  Trader_Initials           717 non-null    object        \n 33  Opposite_Trader_ID        717 non-null    object        \n 34  Open_Close_Code           717 non-null    object        \n 35  Total_Transaction_Amount  717 non-null    int64         \ndtypes: datetime64[ns](1), int64(1), object(34)\nmemory usage: 201.8+ KB\n"
     ]
    }
   ],
   "source": [
    "df.info()"
   ]
  },
  {
   "cell_type": "code",
   "execution_count": 2,
   "metadata": {},
   "outputs": [
    {
     "output_type": "execute_result",
     "data": {
      "text/plain": [
       "['x - y']"
      ]
     },
     "metadata": {},
     "execution_count": 2
    }
   ],
   "source": [
    "a = 'x - y'\n"
   ]
  },
  {
   "cell_type": "code",
   "execution_count": null,
   "metadata": {},
   "outputs": [],
   "source": []
  }
 ]
}