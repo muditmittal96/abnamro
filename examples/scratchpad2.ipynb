{
 "metadata": {
  "language_info": {
   "codemirror_mode": {
    "name": "ipython",
    "version": 3
   },
   "file_extension": ".py",
   "mimetype": "text/x-python",
   "name": "python",
   "nbconvert_exporter": "python",
   "pygments_lexer": "ipython3",
   "version": "3.9.6"
  },
  "orig_nbformat": 4,
  "kernelspec": {
   "name": "python3",
   "display_name": "Python 3.9.6 64-bit"
  },
  "interpreter": {
   "hash": "aee8b7b246df8f9039afb4144a1f6fd8d2ca17a180786b69acc140d282b71a49"
  }
 },
 "nbformat": 4,
 "nbformat_minor": 2,
 "cells": [
  {
   "cell_type": "code",
   "execution_count": 7,
   "metadata": {},
   "outputs": [],
   "source": [
    "import pandas as pd"
   ]
  },
  {
   "cell_type": "code",
   "execution_count": 8,
   "metadata": {},
   "outputs": [],
   "source": [
    "df = pd.read_csv('input.txt', names=['Input'])"
   ]
  },
  {
   "cell_type": "code",
   "execution_count": 9,
   "metadata": {},
   "outputs": [
    {
     "output_type": "execute_result",
     "data": {
      "text/plain": [
       "                                                 Input\n",
       "0    315CL  432100020001SGXDC FUSGX NK    20100910J...\n",
       "1    315CL  432100020001SGXDC FUSGX NK    20100910J...\n",
       "2    315CL  432100020001SGXDC FUSGX NK    20100910J...\n",
       "3    315CL  432100020001SGXDC FUSGX NK    20100910J...\n",
       "4    315CL  432100020001SGXDC FUSGX NK    20100910J...\n",
       "..                                                 ...\n",
       "712  315CL  432100030001FCC   FUCME N1    20100910J...\n",
       "713  315CL  432100030001FCC   FUCME N1    20100910J...\n",
       "714  315CL  432100030001FCC   FUCME N1    20100910J...\n",
       "715  315CL  432100030001FCC   FUCME N1    20100910J...\n",
       "716  315CL  432100030001FCC   FUCME N1    20100910J...\n",
       "\n",
       "[717 rows x 1 columns]"
      ],
      "text/html": "<div>\n<style scoped>\n    .dataframe tbody tr th:only-of-type {\n        vertical-align: middle;\n    }\n\n    .dataframe tbody tr th {\n        vertical-align: top;\n    }\n\n    .dataframe thead th {\n        text-align: right;\n    }\n</style>\n<table border=\"1\" class=\"dataframe\">\n  <thead>\n    <tr style=\"text-align: right;\">\n      <th></th>\n      <th>Input</th>\n    </tr>\n  </thead>\n  <tbody>\n    <tr>\n      <th>0</th>\n      <td>315CL  432100020001SGXDC FUSGX NK    20100910J...</td>\n    </tr>\n    <tr>\n      <th>1</th>\n      <td>315CL  432100020001SGXDC FUSGX NK    20100910J...</td>\n    </tr>\n    <tr>\n      <th>2</th>\n      <td>315CL  432100020001SGXDC FUSGX NK    20100910J...</td>\n    </tr>\n    <tr>\n      <th>3</th>\n      <td>315CL  432100020001SGXDC FUSGX NK    20100910J...</td>\n    </tr>\n    <tr>\n      <th>4</th>\n      <td>315CL  432100020001SGXDC FUSGX NK    20100910J...</td>\n    </tr>\n    <tr>\n      <th>...</th>\n      <td>...</td>\n    </tr>\n    <tr>\n      <th>712</th>\n      <td>315CL  432100030001FCC   FUCME N1    20100910J...</td>\n    </tr>\n    <tr>\n      <th>713</th>\n      <td>315CL  432100030001FCC   FUCME N1    20100910J...</td>\n    </tr>\n    <tr>\n      <th>714</th>\n      <td>315CL  432100030001FCC   FUCME N1    20100910J...</td>\n    </tr>\n    <tr>\n      <th>715</th>\n      <td>315CL  432100030001FCC   FUCME N1    20100910J...</td>\n    </tr>\n    <tr>\n      <th>716</th>\n      <td>315CL  432100030001FCC   FUCME N1    20100910J...</td>\n    </tr>\n  </tbody>\n</table>\n<p>717 rows × 1 columns</p>\n</div>"
     },
     "metadata": {},
     "execution_count": 9
    }
   ],
   "source": [
    "df"
   ]
  },
  {
   "cell_type": "code",
   "execution_count": 10,
   "metadata": {},
   "outputs": [],
   "source": [
    "df.columns = ['Input']"
   ]
  },
  {
   "cell_type": "code",
   "execution_count": 11,
   "metadata": {},
   "outputs": [],
   "source": [
    "start_idx = None\n",
    "last_idx = None"
   ]
  },
  {
   "cell_type": "code",
   "execution_count": 12,
   "metadata": {},
   "outputs": [],
   "source": [
    "with open('specifications.txt',\"r\") as specs:\n",
    "    for line in specs:\n",
    "        stripped_line = line.strip()\n",
    "        split_line = stripped_line.split(',')\n",
    "        if start_idx == None:\n",
    "            last_idx = 0 + int(split_line[1])\n",
    "        else:\n",
    "            last_idx = start_idx + int(split_line[1])\n",
    "        df[split_line[0]] = df.apply(lambda x: x['Input'][start_idx:last_idx], axis=1)\n",
    "        start_idx = last_idx"
   ]
  },
  {
   "cell_type": "code",
   "execution_count": 13,
   "metadata": {},
   "outputs": [
    {
     "output_type": "execute_result",
     "data": {
      "text/plain": [
       "                                                 Input Record_Code  \\\n",
       "0    315CL  432100020001SGXDC FUSGX NK    20100910J...         315   \n",
       "1    315CL  432100020001SGXDC FUSGX NK    20100910J...         315   \n",
       "2    315CL  432100020001SGXDC FUSGX NK    20100910J...         315   \n",
       "3    315CL  432100020001SGXDC FUSGX NK    20100910J...         315   \n",
       "4    315CL  432100020001SGXDC FUSGX NK    20100910J...         315   \n",
       "..                                                 ...         ...   \n",
       "712  315CL  432100030001FCC   FUCME N1    20100910J...         315   \n",
       "713  315CL  432100030001FCC   FUCME N1    20100910J...         315   \n",
       "714  315CL  432100030001FCC   FUCME N1    20100910J...         315   \n",
       "715  315CL  432100030001FCC   FUCME N1    20100910J...         315   \n",
       "716  315CL  432100030001FCC   FUCME N1    20100910J...         315   \n",
       "\n",
       "    Client_Type Client_Number Account_Number Subaccount_Number  \\\n",
       "0          CL            4321           0002              0001   \n",
       "1          CL            4321           0002              0001   \n",
       "2          CL            4321           0002              0001   \n",
       "3          CL            4321           0002              0001   \n",
       "4          CL            4321           0002              0001   \n",
       "..          ...           ...            ...               ...   \n",
       "712        CL            4321           0003              0001   \n",
       "713        CL            4321           0003              0001   \n",
       "714        CL            4321           0003              0001   \n",
       "715        CL            4321           0003              0001   \n",
       "716        CL            4321           0003              0001   \n",
       "\n",
       "    Opposite_Party_Code Product_Group_Code Exchange_Code  Symbol  ...  \\\n",
       "0                SGXDC                  FU          SGX   NK      ...   \n",
       "1                SGXDC                  FU          SGX   NK      ...   \n",
       "2                SGXDC                  FU          SGX   NK      ...   \n",
       "3                SGXDC                  FU          SGX   NK      ...   \n",
       "4                SGXDC                  FU          SGX   NK      ...   \n",
       "..                  ...                ...           ...     ...  ...   \n",
       "712              FCC                    FU          CME   N1      ...   \n",
       "713              FCC                    FU          CME   N1      ...   \n",
       "714              FCC                    FU          CME   N1      ...   \n",
       "715              FCC                    FU          CME   N1      ...   \n",
       "716              FCC                    FU          CME   N1      ...   \n",
       "\n",
       "    Commission_D_C Commission_Cur_Code Transaction_Date Future_Reference  \\\n",
       "0                D                 JPY         20100820           001238   \n",
       "1                D                 JPY         20100820           001240   \n",
       "2                D                 JPY         20100820           001245   \n",
       "3                D                 JPY         20100820           001253   \n",
       "4                D                 JPY         20100820           001255   \n",
       "..             ...                 ...              ...              ...   \n",
       "712              D                 JPY         20100819           059482   \n",
       "713              D                 JPY         20100819           059483   \n",
       "714              D                 JPY         20100819           059618   \n",
       "715              D                 JPY         20100819           059619   \n",
       "716              D                 JPY         20100819           059484   \n",
       "\n",
       "    Ticket_Number External_Number Transaction_Price/Dec Trader_Initials  \\\n",
       "0          0               688032       000092500000000                   \n",
       "1          0               688058       000092500000000                   \n",
       "2          0               688098       000092500000000                   \n",
       "3          0               688158       000092450000000                   \n",
       "4          0               688162       000092450000000                   \n",
       "..            ...             ...                   ...             ...   \n",
       "712                        000315       000092600000000                   \n",
       "713                        000316       000092600000000                   \n",
       "714                        000451       000092100000000                   \n",
       "715                        000452       000092100000000                   \n",
       "716                        000317       000092550000000                   \n",
       "\n",
       "    Opposite_Trader_ID Open_Close_Code  \n",
       "0                                    O  \n",
       "1                                    O  \n",
       "2                                    O  \n",
       "3                                    O  \n",
       "4                                    O  \n",
       "..                 ...             ...  \n",
       "712                                  O  \n",
       "713                                  O  \n",
       "714                                  O  \n",
       "715                                  O  \n",
       "716                                  O  \n",
       "\n",
       "[717 rows x 35 columns]"
      ],
      "text/html": "<div>\n<style scoped>\n    .dataframe tbody tr th:only-of-type {\n        vertical-align: middle;\n    }\n\n    .dataframe tbody tr th {\n        vertical-align: top;\n    }\n\n    .dataframe thead th {\n        text-align: right;\n    }\n</style>\n<table border=\"1\" class=\"dataframe\">\n  <thead>\n    <tr style=\"text-align: right;\">\n      <th></th>\n      <th>Input</th>\n      <th>Record_Code</th>\n      <th>Client_Type</th>\n      <th>Client_Number</th>\n      <th>Account_Number</th>\n      <th>Subaccount_Number</th>\n      <th>Opposite_Party_Code</th>\n      <th>Product_Group_Code</th>\n      <th>Exchange_Code</th>\n      <th>Symbol</th>\n      <th>...</th>\n      <th>Commission_D_C</th>\n      <th>Commission_Cur_Code</th>\n      <th>Transaction_Date</th>\n      <th>Future_Reference</th>\n      <th>Ticket_Number</th>\n      <th>External_Number</th>\n      <th>Transaction_Price/Dec</th>\n      <th>Trader_Initials</th>\n      <th>Opposite_Trader_ID</th>\n      <th>Open_Close_Code</th>\n    </tr>\n  </thead>\n  <tbody>\n    <tr>\n      <th>0</th>\n      <td>315CL  432100020001SGXDC FUSGX NK    20100910J...</td>\n      <td>315</td>\n      <td>CL</td>\n      <td>4321</td>\n      <td>0002</td>\n      <td>0001</td>\n      <td>SGXDC</td>\n      <td>FU</td>\n      <td>SGX</td>\n      <td>NK</td>\n      <td>...</td>\n      <td>D</td>\n      <td>JPY</td>\n      <td>20100820</td>\n      <td>001238</td>\n      <td>0</td>\n      <td>688032</td>\n      <td>000092500000000</td>\n      <td></td>\n      <td></td>\n      <td>O</td>\n    </tr>\n    <tr>\n      <th>1</th>\n      <td>315CL  432100020001SGXDC FUSGX NK    20100910J...</td>\n      <td>315</td>\n      <td>CL</td>\n      <td>4321</td>\n      <td>0002</td>\n      <td>0001</td>\n      <td>SGXDC</td>\n      <td>FU</td>\n      <td>SGX</td>\n      <td>NK</td>\n      <td>...</td>\n      <td>D</td>\n      <td>JPY</td>\n      <td>20100820</td>\n      <td>001240</td>\n      <td>0</td>\n      <td>688058</td>\n      <td>000092500000000</td>\n      <td></td>\n      <td></td>\n      <td>O</td>\n    </tr>\n    <tr>\n      <th>2</th>\n      <td>315CL  432100020001SGXDC FUSGX NK    20100910J...</td>\n      <td>315</td>\n      <td>CL</td>\n      <td>4321</td>\n      <td>0002</td>\n      <td>0001</td>\n      <td>SGXDC</td>\n      <td>FU</td>\n      <td>SGX</td>\n      <td>NK</td>\n      <td>...</td>\n      <td>D</td>\n      <td>JPY</td>\n      <td>20100820</td>\n      <td>001245</td>\n      <td>0</td>\n      <td>688098</td>\n      <td>000092500000000</td>\n      <td></td>\n      <td></td>\n      <td>O</td>\n    </tr>\n    <tr>\n      <th>3</th>\n      <td>315CL  432100020001SGXDC FUSGX NK    20100910J...</td>\n      <td>315</td>\n      <td>CL</td>\n      <td>4321</td>\n      <td>0002</td>\n      <td>0001</td>\n      <td>SGXDC</td>\n      <td>FU</td>\n      <td>SGX</td>\n      <td>NK</td>\n      <td>...</td>\n      <td>D</td>\n      <td>JPY</td>\n      <td>20100820</td>\n      <td>001253</td>\n      <td>0</td>\n      <td>688158</td>\n      <td>000092450000000</td>\n      <td></td>\n      <td></td>\n      <td>O</td>\n    </tr>\n    <tr>\n      <th>4</th>\n      <td>315CL  432100020001SGXDC FUSGX NK    20100910J...</td>\n      <td>315</td>\n      <td>CL</td>\n      <td>4321</td>\n      <td>0002</td>\n      <td>0001</td>\n      <td>SGXDC</td>\n      <td>FU</td>\n      <td>SGX</td>\n      <td>NK</td>\n      <td>...</td>\n      <td>D</td>\n      <td>JPY</td>\n      <td>20100820</td>\n      <td>001255</td>\n      <td>0</td>\n      <td>688162</td>\n      <td>000092450000000</td>\n      <td></td>\n      <td></td>\n      <td>O</td>\n    </tr>\n    <tr>\n      <th>...</th>\n      <td>...</td>\n      <td>...</td>\n      <td>...</td>\n      <td>...</td>\n      <td>...</td>\n      <td>...</td>\n      <td>...</td>\n      <td>...</td>\n      <td>...</td>\n      <td>...</td>\n      <td>...</td>\n      <td>...</td>\n      <td>...</td>\n      <td>...</td>\n      <td>...</td>\n      <td>...</td>\n      <td>...</td>\n      <td>...</td>\n      <td>...</td>\n      <td>...</td>\n      <td>...</td>\n    </tr>\n    <tr>\n      <th>712</th>\n      <td>315CL  432100030001FCC   FUCME N1    20100910J...</td>\n      <td>315</td>\n      <td>CL</td>\n      <td>4321</td>\n      <td>0003</td>\n      <td>0001</td>\n      <td>FCC</td>\n      <td>FU</td>\n      <td>CME</td>\n      <td>N1</td>\n      <td>...</td>\n      <td>D</td>\n      <td>JPY</td>\n      <td>20100819</td>\n      <td>059482</td>\n      <td></td>\n      <td>000315</td>\n      <td>000092600000000</td>\n      <td></td>\n      <td></td>\n      <td>O</td>\n    </tr>\n    <tr>\n      <th>713</th>\n      <td>315CL  432100030001FCC   FUCME N1    20100910J...</td>\n      <td>315</td>\n      <td>CL</td>\n      <td>4321</td>\n      <td>0003</td>\n      <td>0001</td>\n      <td>FCC</td>\n      <td>FU</td>\n      <td>CME</td>\n      <td>N1</td>\n      <td>...</td>\n      <td>D</td>\n      <td>JPY</td>\n      <td>20100819</td>\n      <td>059483</td>\n      <td></td>\n      <td>000316</td>\n      <td>000092600000000</td>\n      <td></td>\n      <td></td>\n      <td>O</td>\n    </tr>\n    <tr>\n      <th>714</th>\n      <td>315CL  432100030001FCC   FUCME N1    20100910J...</td>\n      <td>315</td>\n      <td>CL</td>\n      <td>4321</td>\n      <td>0003</td>\n      <td>0001</td>\n      <td>FCC</td>\n      <td>FU</td>\n      <td>CME</td>\n      <td>N1</td>\n      <td>...</td>\n      <td>D</td>\n      <td>JPY</td>\n      <td>20100819</td>\n      <td>059618</td>\n      <td></td>\n      <td>000451</td>\n      <td>000092100000000</td>\n      <td></td>\n      <td></td>\n      <td>O</td>\n    </tr>\n    <tr>\n      <th>715</th>\n      <td>315CL  432100030001FCC   FUCME N1    20100910J...</td>\n      <td>315</td>\n      <td>CL</td>\n      <td>4321</td>\n      <td>0003</td>\n      <td>0001</td>\n      <td>FCC</td>\n      <td>FU</td>\n      <td>CME</td>\n      <td>N1</td>\n      <td>...</td>\n      <td>D</td>\n      <td>JPY</td>\n      <td>20100819</td>\n      <td>059619</td>\n      <td></td>\n      <td>000452</td>\n      <td>000092100000000</td>\n      <td></td>\n      <td></td>\n      <td>O</td>\n    </tr>\n    <tr>\n      <th>716</th>\n      <td>315CL  432100030001FCC   FUCME N1    20100910J...</td>\n      <td>315</td>\n      <td>CL</td>\n      <td>4321</td>\n      <td>0003</td>\n      <td>0001</td>\n      <td>FCC</td>\n      <td>FU</td>\n      <td>CME</td>\n      <td>N1</td>\n      <td>...</td>\n      <td>D</td>\n      <td>JPY</td>\n      <td>20100819</td>\n      <td>059484</td>\n      <td></td>\n      <td>000317</td>\n      <td>000092550000000</td>\n      <td></td>\n      <td></td>\n      <td>O</td>\n    </tr>\n  </tbody>\n</table>\n<p>717 rows × 35 columns</p>\n</div>"
     },
     "metadata": {},
     "execution_count": 13
    }
   ],
   "source": [
    "df"
   ]
  },
  {
   "cell_type": "code",
   "execution_count": 14,
   "metadata": {},
   "outputs": [],
   "source": [
    "df['Total_Transaction_Amount'] = df['Quantity_Long'].astype('float') - df['Quantity_Short'].astype('float')"
   ]
  },
  {
   "cell_type": "code",
   "execution_count": 15,
   "metadata": {},
   "outputs": [],
   "source": [
    "df['Expiration_Date'] = pd.to_datetime(df['Expiration_Date'])"
   ]
  },
  {
   "cell_type": "code",
   "execution_count": 16,
   "metadata": {},
   "outputs": [
    {
     "output_type": "execute_result",
     "data": {
      "text/plain": [
       "0     2010-09-10\n",
       "1     2010-09-10\n",
       "2     2010-09-10\n",
       "3     2010-09-10\n",
       "4     2010-09-10\n",
       "         ...    \n",
       "712   2010-09-10\n",
       "713   2010-09-10\n",
       "714   2010-09-10\n",
       "715   2010-09-10\n",
       "716   2010-09-10\n",
       "Name: Expiration_Date, Length: 717, dtype: datetime64[ns]"
      ]
     },
     "metadata": {},
     "execution_count": 16
    }
   ],
   "source": [
    "df['Expiration_Date']"
   ]
  },
  {
   "cell_type": "code",
   "execution_count": 17,
   "metadata": {},
   "outputs": [],
   "source": [
    "df_test = df.groupby(['Client_Type', 'Client_Number', 'Account_Number', 'Subaccount_Number', 'Exchange_Code', 'Product_Group_Code', 'Symbol', 'Expiration_Date'], as_index=False)['Total_Transaction_Amount'].sum()"
   ]
  },
  {
   "cell_type": "code",
   "execution_count": 18,
   "metadata": {},
   "outputs": [
    {
     "output_type": "execute_result",
     "data": {
      "text/plain": [
       "  Client_Type Client_Number Account_Number Subaccount_Number Exchange_Code  \\\n",
       "0        CL            1234           0002              0001          SGX    \n",
       "1        CL            1234           0003              0001          CME    \n",
       "2        CL            1234           0003              0001          CME    \n",
       "3        CL            4321           0002              0001          SGX    \n",
       "4        CL            4321           0003              0001          CME    \n",
       "\n",
       "  Product_Group_Code  Symbol Expiration_Date  Total_Transaction_Amount  \n",
       "0                 FU  NK          2010-09-10                     -52.0  \n",
       "1                 FU  N1          2010-09-10                     285.0  \n",
       "2                 FU  NK.         2010-09-10                    -215.0  \n",
       "3                 FU  NK          2010-09-10                      46.0  \n",
       "4                 FU  N1          2010-09-10                     -79.0  "
      ],
      "text/html": "<div>\n<style scoped>\n    .dataframe tbody tr th:only-of-type {\n        vertical-align: middle;\n    }\n\n    .dataframe tbody tr th {\n        vertical-align: top;\n    }\n\n    .dataframe thead th {\n        text-align: right;\n    }\n</style>\n<table border=\"1\" class=\"dataframe\">\n  <thead>\n    <tr style=\"text-align: right;\">\n      <th></th>\n      <th>Client_Type</th>\n      <th>Client_Number</th>\n      <th>Account_Number</th>\n      <th>Subaccount_Number</th>\n      <th>Exchange_Code</th>\n      <th>Product_Group_Code</th>\n      <th>Symbol</th>\n      <th>Expiration_Date</th>\n      <th>Total_Transaction_Amount</th>\n    </tr>\n  </thead>\n  <tbody>\n    <tr>\n      <th>0</th>\n      <td>CL</td>\n      <td>1234</td>\n      <td>0002</td>\n      <td>0001</td>\n      <td>SGX</td>\n      <td>FU</td>\n      <td>NK</td>\n      <td>2010-09-10</td>\n      <td>-52.0</td>\n    </tr>\n    <tr>\n      <th>1</th>\n      <td>CL</td>\n      <td>1234</td>\n      <td>0003</td>\n      <td>0001</td>\n      <td>CME</td>\n      <td>FU</td>\n      <td>N1</td>\n      <td>2010-09-10</td>\n      <td>285.0</td>\n    </tr>\n    <tr>\n      <th>2</th>\n      <td>CL</td>\n      <td>1234</td>\n      <td>0003</td>\n      <td>0001</td>\n      <td>CME</td>\n      <td>FU</td>\n      <td>NK.</td>\n      <td>2010-09-10</td>\n      <td>-215.0</td>\n    </tr>\n    <tr>\n      <th>3</th>\n      <td>CL</td>\n      <td>4321</td>\n      <td>0002</td>\n      <td>0001</td>\n      <td>SGX</td>\n      <td>FU</td>\n      <td>NK</td>\n      <td>2010-09-10</td>\n      <td>46.0</td>\n    </tr>\n    <tr>\n      <th>4</th>\n      <td>CL</td>\n      <td>4321</td>\n      <td>0003</td>\n      <td>0001</td>\n      <td>CME</td>\n      <td>FU</td>\n      <td>N1</td>\n      <td>2010-09-10</td>\n      <td>-79.0</td>\n    </tr>\n  </tbody>\n</table>\n</div>"
     },
     "metadata": {},
     "execution_count": 18
    }
   ],
   "source": [
    "df_test"
   ]
  },
  {
   "cell_type": "code",
   "execution_count": 19,
   "metadata": {},
   "outputs": [],
   "source": [
    "client_info_cols = ['Client_Type', 'Client_Number', 'Account_Number', 'Subaccount_Number']\n",
    "product_info_cols = ['Exchange_Code', 'Product_Group_Code', 'Symbol', 'Expiration_Date']\n",
    "df_test['Client_Information'] = df_test[client_info_cols].apply(lambda row: '_'.join(row.values.astype(str)), axis=1)\n",
    "df_test['Product_Information'] = df_test[product_info_cols].apply(lambda row: '_'.join(row.values.astype(str)), axis=1)"
   ]
  },
  {
   "cell_type": "code",
   "execution_count": 23,
   "metadata": {},
   "outputs": [],
   "source": [
    "nl = client_info_cols + product_info_cols"
   ]
  },
  {
   "cell_type": "code",
   "execution_count": 24,
   "metadata": {},
   "outputs": [
    {
     "output_type": "execute_result",
     "data": {
      "text/plain": [
       "['Client_Type',\n",
       " 'Client_Number',\n",
       " 'Account_Number',\n",
       " 'Subaccount_Number',\n",
       " 'Exchange_Code',\n",
       " 'Product_Group_Code',\n",
       " 'Symbol',\n",
       " 'Expiration_Date']"
      ]
     },
     "metadata": {},
     "execution_count": 24
    }
   ],
   "source": [
    "nl"
   ]
  },
  {
   "cell_type": "code",
   "execution_count": 20,
   "metadata": {},
   "outputs": [
    {
     "output_type": "execute_result",
     "data": {
      "text/plain": [
       "  Client_Type Client_Number Account_Number Subaccount_Number Exchange_Code  \\\n",
       "0        CL            1234           0002              0001          SGX    \n",
       "1        CL            1234           0003              0001          CME    \n",
       "2        CL            1234           0003              0001          CME    \n",
       "3        CL            4321           0002              0001          SGX    \n",
       "4        CL            4321           0003              0001          CME    \n",
       "\n",
       "  Product_Group_Code  Symbol Expiration_Date  Total_Transaction_Amount  \\\n",
       "0                 FU  NK          2010-09-10                     -52.0   \n",
       "1                 FU  N1          2010-09-10                     285.0   \n",
       "2                 FU  NK.         2010-09-10                    -215.0   \n",
       "3                 FU  NK          2010-09-10                      46.0   \n",
       "4                 FU  N1          2010-09-10                     -79.0   \n",
       "\n",
       "    Client_Information                 Product_Information  \n",
       "0  CL  _1234_0002_0001  SGX _FU_NK    _2010-09-10 00:00:00  \n",
       "1  CL  _1234_0003_0001  CME _FU_N1    _2010-09-10 00:00:00  \n",
       "2  CL  _1234_0003_0001  CME _FU_NK.   _2010-09-10 00:00:00  \n",
       "3  CL  _4321_0002_0001  SGX _FU_NK    _2010-09-10 00:00:00  \n",
       "4  CL  _4321_0003_0001  CME _FU_N1    _2010-09-10 00:00:00  "
      ],
      "text/html": "<div>\n<style scoped>\n    .dataframe tbody tr th:only-of-type {\n        vertical-align: middle;\n    }\n\n    .dataframe tbody tr th {\n        vertical-align: top;\n    }\n\n    .dataframe thead th {\n        text-align: right;\n    }\n</style>\n<table border=\"1\" class=\"dataframe\">\n  <thead>\n    <tr style=\"text-align: right;\">\n      <th></th>\n      <th>Client_Type</th>\n      <th>Client_Number</th>\n      <th>Account_Number</th>\n      <th>Subaccount_Number</th>\n      <th>Exchange_Code</th>\n      <th>Product_Group_Code</th>\n      <th>Symbol</th>\n      <th>Expiration_Date</th>\n      <th>Total_Transaction_Amount</th>\n      <th>Client_Information</th>\n      <th>Product_Information</th>\n    </tr>\n  </thead>\n  <tbody>\n    <tr>\n      <th>0</th>\n      <td>CL</td>\n      <td>1234</td>\n      <td>0002</td>\n      <td>0001</td>\n      <td>SGX</td>\n      <td>FU</td>\n      <td>NK</td>\n      <td>2010-09-10</td>\n      <td>-52.0</td>\n      <td>CL  _1234_0002_0001</td>\n      <td>SGX _FU_NK    _2010-09-10 00:00:00</td>\n    </tr>\n    <tr>\n      <th>1</th>\n      <td>CL</td>\n      <td>1234</td>\n      <td>0003</td>\n      <td>0001</td>\n      <td>CME</td>\n      <td>FU</td>\n      <td>N1</td>\n      <td>2010-09-10</td>\n      <td>285.0</td>\n      <td>CL  _1234_0003_0001</td>\n      <td>CME _FU_N1    _2010-09-10 00:00:00</td>\n    </tr>\n    <tr>\n      <th>2</th>\n      <td>CL</td>\n      <td>1234</td>\n      <td>0003</td>\n      <td>0001</td>\n      <td>CME</td>\n      <td>FU</td>\n      <td>NK.</td>\n      <td>2010-09-10</td>\n      <td>-215.0</td>\n      <td>CL  _1234_0003_0001</td>\n      <td>CME _FU_NK.   _2010-09-10 00:00:00</td>\n    </tr>\n    <tr>\n      <th>3</th>\n      <td>CL</td>\n      <td>4321</td>\n      <td>0002</td>\n      <td>0001</td>\n      <td>SGX</td>\n      <td>FU</td>\n      <td>NK</td>\n      <td>2010-09-10</td>\n      <td>46.0</td>\n      <td>CL  _4321_0002_0001</td>\n      <td>SGX _FU_NK    _2010-09-10 00:00:00</td>\n    </tr>\n    <tr>\n      <th>4</th>\n      <td>CL</td>\n      <td>4321</td>\n      <td>0003</td>\n      <td>0001</td>\n      <td>CME</td>\n      <td>FU</td>\n      <td>N1</td>\n      <td>2010-09-10</td>\n      <td>-79.0</td>\n      <td>CL  _4321_0003_0001</td>\n      <td>CME _FU_N1    _2010-09-10 00:00:00</td>\n    </tr>\n  </tbody>\n</table>\n</div>"
     },
     "metadata": {},
     "execution_count": 20
    }
   ],
   "source": [
    "df_test"
   ]
  },
  {
   "cell_type": "code",
   "execution_count": 21,
   "metadata": {},
   "outputs": [],
   "source": [
    "df_test.to_csv('Output.csv')"
   ]
  },
  {
   "cell_type": "code",
   "execution_count": null,
   "metadata": {},
   "outputs": [],
   "source": []
  },
  {
   "cell_type": "code",
   "execution_count": 22,
   "metadata": {},
   "outputs": [],
   "source": [
    "# df['Record_Code'] = df.apply(lambda x: x['Input'][:3], axis=1)\n",
    "# df['Client_Type'] = df.apply(lambda x: x['Input'][3:7], axis=1)\n",
    "# df['Client_Number'] = df.apply(lambda x: x['Input'][7:11], axis=1)\n",
    "# df['Account_Number'] = df.apply(lambda x: x['Input'][11:15], axis=1)\n",
    "# df['Subaccount_Number'] = df.apply(lambda x: x['Input'][15:19], axis=1)\n",
    "# df['Opposite_Party_Code'] = df.apply(lambda x: x['Input'][19:25], axis=1)\n",
    "# df['Product_Group_Code'] = df.apply(lambda x: x['Input'][25:27], axis=1)\n",
    "# df['Exchange_Code'] = df.apply(lambda x: x['Input'][27:31], axis=1)\n",
    "# df['Symbol'] = df.apply(lambda x: x['Input'][31:37], axis=1)\n",
    "# df['Expiration_Date'] = df.apply(lambda x: x['Input'][37:45], axis=1)\n",
    "# df['Currency_Code'] = df.apply(lambda x: x['Input'][45:48], axis=1)\n",
    "# df['Movement_Code'] = df.apply(lambda x: x['Input'][48:50], axis=1)\n",
    "# df['Buy_Sell_Code'] = df.apply(lambda x: x['Input'][50:51], axis=1)\n",
    "# df['Quantity_Long_Sign'] = df.apply(lambda x: x['Input'][51:52], axis=1)\n",
    "# df['Quantity_Long'] = df.apply(lambda x: x['Input'][52:62], axis=1)\n",
    "# df['Quantity_Short_Sign'] = df.apply(lambda x: x['Input'][62:63], axis=1)\n",
    "# df['Quantity_Short'] = df.apply(lambda x: x['Input'][63:73], axis=1)\n",
    "# df['Exch/Broker_Fee/DEC'] = df.apply(lambda x: x['Input'][73:85], axis=1)\n",
    "# df['Exch/Broker_Fee_D_C'] = df.apply(lambda x: x['Input'][85:86], axis=1)\n",
    "# df['Exch/Broker_Fee_Cur_Code'] = df.apply(lambda x: x['Input'][86:89], axis=1)\n",
    "# df['Clearing_Fee/DEC'] = df.apply(lambda x: x['Input'][89:101], axis=1)\n",
    "# df['Clearing_Fee_D_C'] = df.apply(lambda x: x['Input'][101:102], axis=1)\n",
    "# df['Clearing_Fee_Cur_Code'] = df.apply(lambda x: x['Input'][102:105], axis=1)\n",
    "# df['Commission'] = df.apply(lambda x: x['Input'][105:117], axis=1)\n",
    "# df['Commission_D_C'] = df.apply(lambda x: x['Input'][117:118], axis=1)\n",
    "# df['Commission_Cur_Code'] = df.apply(lambda x: x['Input'][118:121], axis=1)\n",
    "# df['Transaction_Date'] = df.apply(lambda x: x['Input'][121:129], axis=1)\n",
    "# df['Future_Reference'] = df.apply(lambda x: x['Input'][129:135], axis=1)\n",
    "# df['Ticket_Number'] = df.apply(lambda x: x['Input'][135:141], axis=1)\n",
    "# df['External_Number'] = df.apply(lambda x: x['Input'][141:147], axis=1)\n",
    "# df['Transaction_Price/DEC'] = df.apply(lambda x: x['Input'][147:162], axis=1)\n",
    "# df['Trader_Initials'] = df.apply(lambda x: x['Input'][162:168], axis=1)\n",
    "# df['Opposite_Trader_ID'] = df.apply(lambda x: x['Input'][168:175], axis=1)\n",
    "# df['Open_Close_Code'] = df.apply(lambda x: x['Input'][175:176], axis=1)"
   ]
  },
  {
   "cell_type": "code",
   "execution_count": null,
   "metadata": {},
   "outputs": [],
   "source": []
  },
  {
   "cell_type": "code",
   "execution_count": 16,
   "metadata": {},
   "outputs": [],
   "source": []
  },
  {
   "cell_type": "code",
   "execution_count": null,
   "metadata": {},
   "outputs": [],
   "source": []
  }
 ]
}